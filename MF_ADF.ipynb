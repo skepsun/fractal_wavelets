{
  "nbformat": 4,
  "nbformat_minor": 0,
  "metadata": {
    "colab": {
      "name": "Untitled0.ipynb",
      "version": "0.3.2",
      "provenance": [],
      "collapsed_sections": [],
      "toc_visible": true,
      "include_colab_link": true
    },
    "kernelspec": {
      "name": "python3",
      "display_name": "Python 3"
    }
  },
  "cells": [
    {
      "cell_type": "markdown",
      "metadata": {
        "id": "view-in-github",
        "colab_type": "text"
      },
      "source": [
        "[View in Colaboratory](https://colab.research.google.com/github/skepsun/fractal_wavelets/blob/master/MF_ADF.ipynb)"
      ]
    },
    {
      "metadata": {
        "id": "VUwdwhBLLkIl",
        "colab_type": "code",
        "colab": {}
      },
      "cell_type": "code",
      "source": [
        "import pandas as pd\n",
        "import numpy as np\n",
        "import statsmodels.api as sm\n",
        "import matplotlib.pyplot as plt"
      ],
      "execution_count": 0,
      "outputs": []
    },
    {
      "metadata": {
        "id": "91Va_zaBM8sZ",
        "colab_type": "code",
        "colab": {
          "base_uri": "https://localhost:8080/",
          "height": 127
        },
        "outputId": "7cb166a9-7474-4945-cae6-3b5c78a4b9bd"
      },
      "cell_type": "code",
      "source": [
        "from google.colab import drive\n",
        "drive.mount('/content/drive')"
      ],
      "execution_count": 9,
      "outputs": [
        {
          "output_type": "stream",
          "text": [
            "Go to this URL in a browser: https://accounts.google.com/o/oauth2/auth?client_id=947318989803-6bn6qk8qdgf4n4g3pfee6491hc0brc4i.apps.googleusercontent.com&redirect_uri=urn%3Aietf%3Awg%3Aoauth%3A2.0%3Aoob&scope=email%20https%3A%2F%2Fwww.googleapis.com%2Fauth%2Fdocs.test%20https%3A%2F%2Fwww.googleapis.com%2Fauth%2Fdrive%20https%3A%2F%2Fwww.googleapis.com%2Fauth%2Fdrive.photos.readonly%20https%3A%2F%2Fwww.googleapis.com%2Fauth%2Fpeopleapi.readonly&response_type=code\n",
            "\n",
            "Enter your authorization code:\n",
            "··········\n",
            "Mounted at /content/drive\n"
          ],
          "name": "stdout"
        }
      ]
    },
    {
      "metadata": {
        "id": "vO6ZZjMoQXe6",
        "colab_type": "code",
        "colab": {}
      },
      "cell_type": "code",
      "source": [
        "df=pd.read_csv('drive/My Drive/data/prices.csv')"
      ],
      "execution_count": 0,
      "outputs": []
    },
    {
      "metadata": {
        "id": "I2FNJ68iS_nP",
        "colab_type": "code",
        "colab": {}
      },
      "cell_type": "code",
      "source": [
        "prices = df['close']"
      ],
      "execution_count": 0,
      "outputs": []
    },
    {
      "metadata": {
        "id": "8YGMSU7pTHt-",
        "colab_type": "code",
        "colab": {}
      },
      "cell_type": "code",
      "source": [
        "def MF_ADF(x,n_vec,q_vec,k):\n",
        "  s_vec = [np.floor(len(x)/n) for n in n_vec]\n",
        "  y = np.cumsum(x - np.mean(x))\n",
        "  F = np.zeros([len(q_vec),len(n_vec)])\n",
        "  hurst = np.zeros([len(q_vec),])\n",
        "  tau = np.zeros([len(q_vec),])\n",
        "  spec = np.zeros([len(q_vec),])\n",
        "  for i,q in enumerate(q_vec):\n",
        "    for j,n in enumerate(n_vec):\n",
        "      s = int(s_vec[j])\n",
        "      F_s_v = np.zeros([2*n,])\n",
        "      for v in range(n):\n",
        "        tmp_x = list(range(s))\n",
        "        tmp_y = y[v*s:(v+1)*s]\n",
        "        p = np.poly1d(np.polyfit(tmp_x,tmp_y,k))\n",
        "        fit_y = p(tmp_x)\n",
        "        mse = np.mean((tmp_y-fit_y)**2)\n",
        "        F_s_v[v] = mse\n",
        "      for v in range(n):\n",
        "        tmp_x = list(range(s))\n",
        "        tmp_y = y[(len(y)-(v+1)*s):(len(y)-v*s)]\n",
        "#         print(len(tmp_x),len(tmp_y))\n",
        "        p = np.poly1d(np.polyfit(tmp_x,tmp_y,k))\n",
        "        fit_y = p(tmp_x)\n",
        "        mse = np.mean((tmp_y-fit_y)**2)\n",
        "        F_s_v[v+n] = np.sqrt(mse)\n",
        "        \n",
        "      if q!=0: F[i,j] = np.mean(F_s_v**q)**(1/q)\n",
        "      else: F[i,j] = np.exp(np.mean(np.log(F_s_v**2)))\n",
        "        \n",
        "    [hurst[i],_] = np.polyfit(np.log(s_vec),np.log(F[i,:]),1)\n",
        "    tau[i] = q*hurst[i] - 1\n",
        "    spec[i] = q*(tau[i]-hurst[i]) + 1\n",
        "  return [F, hurst, tau, spec]"
      ],
      "execution_count": 0,
      "outputs": []
    },
    {
      "metadata": {
        "id": "U6QSHHchfuyF",
        "colab_type": "code",
        "colab": {}
      },
      "cell_type": "code",
      "source": [
        "n_vec = list(range(3,101))\n",
        "q_vec = list(range(-10,11))\n",
        "k=1\n",
        "[F, hurst, tau, spec] = MF_ADF(prices.values,n_vec,q_vec,k)"
      ],
      "execution_count": 0,
      "outputs": []
    },
    {
      "metadata": {
        "id": "2xEwc1PgkHnN",
        "colab_type": "code",
        "colab": {
          "base_uri": "https://localhost:8080/",
          "height": 349
        },
        "outputId": "f86f25a6-9692-4c4b-95af-dac695e06b85"
      },
      "cell_type": "code",
      "source": [
        "plt.plot(tau, spec)\n",
        "plt.show()"
      ],
      "execution_count": 42,
      "outputs": [
        {
          "output_type": "display_data",
          "data": {
            "image/png": "[encoded data removed]",
            "text/plain": [
              "<matplotlib.figure.Figure at 0x7f5895ff5978>"
            ]
          },
          "metadata": {
            "tags": []
          }
        }
      ]
    }
  ]
}